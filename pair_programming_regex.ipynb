{
 "cells": [
  {
   "cell_type": "markdown",
   "metadata": {},
   "source": [
    "1. Validar un número de teléfono.\n",
    "Descripción: Verificar si una cadena representa un número de teléfono válido en el formato (XXX) XXX-XXXX.\n",
    "Probad para cada uno de los teléfonos que tenemos en la siguiente lista:\n",
    "telefonos = [\"(123) 456-7890\", \"178 1890-733\", \"(555) 238-1987\", \"(123) 4560-7890\", \"(ABC) 098-1111\"]"
   ]
  },
  {
   "cell_type": "code",
   "execution_count": 2,
   "metadata": {},
   "outputs": [],
   "source": [
    "import re"
   ]
  },
  {
   "cell_type": "code",
   "execution_count": 3,
   "metadata": {},
   "outputs": [
    {
     "name": "stdout",
     "output_type": "stream",
     "text": [
      "<re.Match object; span=(0, 14), match='(123) 456-7890'>\n",
      "None\n",
      "<re.Match object; span=(0, 14), match='(555) 238-1987'>\n",
      "None\n",
      "None\n"
     ]
    }
   ],
   "source": [
    "string_telefonos = \"(123) 456-7890\"\n",
    "\n",
    "string_telefonos2 = \"178 1890-733\"\n",
    "\n",
    "string_telefonos3 = \"(555) 238-1987\"\n",
    "\n",
    "string_telefonos4 = \"(123) 4560-7890\"\n",
    "\n",
    "string_telefonos5 = \"(ABC) 098-1111\"\n",
    "\n",
    "patron_telefono = '\\W\\d{3}\\W\\s\\d{3}-\\d{4}'\n",
    "\n",
    "telefonos = re.search(patron_telefono, string_telefonos)\n",
    "print(telefonos)\n",
    "\n",
    "telefonos2 = re.search(patron_telefono, string_telefonos2)\n",
    "print(telefonos2)\n",
    "\n",
    "telefonos3 = re.search(patron_telefono, string_telefonos3)\n",
    "print(telefonos3)\n",
    "\n",
    "telefonos4 = re.search(patron_telefono, string_telefonos4)\n",
    "print(telefonos4)\n",
    "\n",
    "telefonos5 = re.search(patron_telefono, string_telefonos5)\n",
    "print(telefonos5)"
   ]
  },
  {
   "cell_type": "code",
   "execution_count": 4,
   "metadata": {},
   "outputs": [
    {
     "name": "stdout",
     "output_type": "stream",
     "text": [
      "['(123) 456-7890', '(555) 238-1987']\n"
     ]
    }
   ],
   "source": [
    "telefonos_total = \"\"\"[\"(123) 456-7890\", \n",
    "                   \"178 1890-733\", \n",
    "                   \"(555) 238-1987\", \n",
    "                   \"(123) 4560-7890\", \n",
    "                   \"(ABC) 098-1111\"]\"\"\"\n",
    "\n",
    "patron_telefono2 = '\\W\\d{3}\\W\\s\\d{3}-\\d{4}'\n",
    "\n",
    "telefonos6 = re.findall(patron_telefono2, telefonos_total)\n",
    "print(telefonos6)"
   ]
  },
  {
   "cell_type": "markdown",
   "metadata": {},
   "source": [
    "2. Buscar todas las direcciones de correo electrónico en un texto.\n",
    "Descripción: Encontrar todas las direcciones de correo electrónico presentes en una cadena de texto.\n",
    "Probad con el siguiente string:\n",
    "texto = \"Mi correo es user@example.com. Contacta conmigo en john.doe@email.com\""
   ]
  },
  {
   "cell_type": "code",
   "execution_count": 5,
   "metadata": {},
   "outputs": [
    {
     "name": "stdout",
     "output_type": "stream",
     "text": [
      "['user@example.com', 'john.doe@email.com']\n"
     ]
    }
   ],
   "source": [
    "texto = \"Mi correo es user@example.com. Contacta conmigo en john.doe@email.com\"\n",
    "\n",
    "patron_correo = '[\\w\\.]+@\\w+\\.\\w{2,3}'\n",
    "\n",
    "correo1 = re.findall(patron_correo, texto)\n",
    "print(correo1)"
   ]
  },
  {
   "cell_type": "markdown",
   "metadata": {},
   "source": [
    "3. Validar un código postal.\n",
    "Descripción: Verificar si una cadena representa un código postal válido de 5 dígitos.\n",
    "Probad para cada uno de los códigos postales que tenemos en la siguiente lista:\n",
    "codigos_postales = [\"12345\", \"190037\", \"78409\", \"986449\", \"19305\"]"
   ]
  },
  {
   "cell_type": "code",
   "execution_count": 6,
   "metadata": {},
   "outputs": [
    {
     "name": "stdout",
     "output_type": "stream",
     "text": [
      "['12345']\n",
      "['78409']\n",
      "['19305']\n"
     ]
    }
   ],
   "source": [
    "codigos_postales = [\"12345\", \"190037\", \"78409\", \"986494\", \"19305\"]\n",
    "\n",
    "patron_cp = '^\\d{5}$'\n",
    "\n",
    "for cp in codigos_postales:\n",
    "    cp_validos = re.findall(patron_cp, cp)\n",
    "    if len(cp_validos) >=1:\n",
    "        print(cp_validos)"
   ]
  },
  {
   "cell_type": "markdown",
   "metadata": {},
   "source": [
    "4. Encontrar todas las palabras que comienzan con una vocal en un texto.\n",
    "Descripción: Encontrar todas las palabras en un texto que comienzan con una vocal (a, e, i, o, u).\n",
    "Probad con el siguiente string:\n",
    "texto = \"El perro está ladrando. Ana tiene una manzana. La casa es grande.\""
   ]
  },
  {
   "cell_type": "code",
   "execution_count": 8,
   "metadata": {},
   "outputs": [
    {
     "name": "stdout",
     "output_type": "stream",
     "text": [
      "El\n",
      "está\n",
      "Ana\n",
      "una\n",
      "es\n"
     ]
    }
   ],
   "source": [
    "\n",
    "\n",
    "texto = \"El perro está ladrando. Ana tiene una manzana. La casa es grande.\"\n",
    "patron_vocal= r'\\b[aeiouAEIOU]\\w*\\b'       \n",
    "\n",
    "palabras_con_vocal = re.findall(patron_vocal, texto)\n",
    "\n",
    "for palabra in palabras_con_vocal:\n",
    "    print(palabra)"
   ]
  },
  {
   "cell_type": "markdown",
   "metadata": {},
   "source": [
    "5. Extraer todos los hashtags de un texto.\n",
    "Descripción: Extraer todos los hashtags (#) presentes en una cadena de texto.\n",
    "Probad con el siguiente string:\n",
    "texto = \"Me encanta el #deporte. #FelizViernes a todos. Estoy en la conferencia #Tech2022.\""
   ]
  },
  {
   "cell_type": "code",
   "execution_count": 9,
   "metadata": {},
   "outputs": [
    {
     "name": "stdout",
     "output_type": "stream",
     "text": [
      "#deporte\n",
      "#FelizViernes\n",
      "#Tech2022\n"
     ]
    }
   ],
   "source": [
    "texto = \"Me encanta el #deporte. #FelizViernes a todos. Estoy en la conferencia #Tech2022.\"\n",
    "patron_hash = r'#\\w+'\n",
    "\n",
    "hashtags = re.findall(patron_hash, texto)\n",
    "\n",
    "for hashtag in hashtags:\n",
    "    print(hashtag)\n"
   ]
  },
  {
   "cell_type": "markdown",
   "metadata": {},
   "source": [
    "6. Buscar todos los números decimales en una cadena de texto.\n",
    "Descripción: Encontrar todos los números decimales presentes en una cadena de texto.\n",
    "Probad con el siguiente string:\n",
    "texto = \"El precio es $19.99. La temperatura es 25.5°C. El índice de inflación es del 2.5%.\"     "
   ]
  },
  {
   "cell_type": "code",
   "execution_count": 11,
   "metadata": {},
   "outputs": [
    {
     "name": "stdout",
     "output_type": "stream",
     "text": [
      "19.99\n",
      "25.5\n",
      "2.5\n"
     ]
    }
   ],
   "source": [
    "\n",
    "\n",
    "texto = \"El precio es $19.99. La temperatura es 25.5°C. El índice de inflación es del 2.5%.\"\n",
    "patron_d= r'\\b\\d+\\.\\d+\\b'\n",
    "\n",
    "numeros_decimales = re.findall(patron_d, texto)\n",
    "\n",
    "for numero_decimal in numeros_decimales:\n",
    "    print(numero_decimal)\n"
   ]
  },
  {
   "cell_type": "markdown",
   "metadata": {},
   "source": [
    "7. Validar un nombre de usuario.\n",
    "Descripción: Verificar si una cadena representa un nombre de usuario válido, que contiene solo letras minúsculas, números y guiones bajos (_).\n",
    "Probad con la siguiente lista de usuarios:\n",
    "lista_usuarios = [\"juan_doe123\", \"lola_12\", \"Aurora_23\", \"12marta_lopez\"]"
   ]
  },
  {
   "cell_type": "code",
   "execution_count": null,
   "metadata": {},
   "outputs": [],
   "source": []
  },
  {
   "cell_type": "markdown",
   "metadata": {},
   "source": [
    "8. Encontrar todas las fechas en formato \"dd/mm/aaaa\" en un texto.\n",
    "Descripción: Encontrar todas las fechas válidas en formato \"dd/mm/aaaa\" presentes en una cadena de texto.\n",
    "Probad con el siguiente string:\n",
    "texto = \"La fecha límite es el 31/12/2022. Hoy es 01/01/2023. Cumpleaños: 15/05/1990.\""
   ]
  },
  {
   "cell_type": "code",
   "execution_count": 12,
   "metadata": {},
   "outputs": [
    {
     "name": "stdout",
     "output_type": "stream",
     "text": [
      "31/12/2022\n",
      "01/01/2023\n",
      "15/05/1990\n"
     ]
    }
   ],
   "source": [
    "\n",
    "texto = \"La fecha límite es el 31/12/2022. Hoy es 01/01/2023. Cumpleaños: 15/05/1990.\"\n",
    "\n",
    "patron_fecha = r'\\b\\d{2}/\\d{2}/\\d{4}\\b'\n",
    "\n",
    "fechas = re.findall(patron_fecha, texto)\n",
    "\n",
    "for fecha in fechas:\n",
    "    print(fecha)\n"
   ]
  },
  {
   "cell_type": "markdown",
   "metadata": {},
   "source": [
    "9. Remover caracteres especiales.\n",
    "Descripción: Dada una cadena de texto, remover cualquier carácter especial, como signos de puntuación y símbolos.\n",
    "Probad con el siguiente string:\n",
    "texto = '¡Hola, cómo estás? ¿Todo bien?'"
   ]
  },
  {
   "cell_type": "code",
   "execution_count": 13,
   "metadata": {},
   "outputs": [
    {
     "name": "stdout",
     "output_type": "stream",
     "text": [
      "Hola cómo estás Todo bien\n"
     ]
    }
   ],
   "source": [
    "\n",
    "\n",
    "texto = '¡Hola, cómo estás? ¿Todo bien?'\n",
    "\n",
    "patron_caracteres_especiales = r'[^\\w\\s]'\n",
    "\n",
    "texto_nuevo = re.sub(patron_caracteres_especiales, '', texto)\n",
    "\n",
    "print(texto_nuevo)\n"
   ]
  },
  {
   "cell_type": "markdown",
   "metadata": {},
   "source": [
    "10. BONUS: Enmascarar información personal.\n",
    "Descripción: Dada una cadena de texto que contiene información personal, como nombres y direcciones, enmascarar esta información reemplazándola con asteriscos (*).\n",
    "Probad con este string:\n",
    "texto = 'El nombre del cliente es John Doe y su dirección es 123 Main Street.'"
   ]
  },
  {
   "cell_type": "code",
   "execution_count": null,
   "metadata": {},
   "outputs": [],
   "source": []
  }
 ],
 "metadata": {
  "kernelspec": {
   "display_name": "base",
   "language": "python",
   "name": "python3"
  },
  "language_info": {
   "codemirror_mode": {
    "name": "ipython",
    "version": 3
   },
   "file_extension": ".py",
   "mimetype": "text/x-python",
   "name": "python",
   "nbconvert_exporter": "python",
   "pygments_lexer": "ipython3",
   "version": "3.9.7"
  }
 },
 "nbformat": 4,
 "nbformat_minor": 2
}
