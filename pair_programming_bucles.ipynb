{
 "cells": [
  {
   "cell_type": "markdown",
   "metadata": {},
   "source": [
    "# Ejericios bucles for\n",
    "1. Imprimir los números del 1 al 5 utilizando un bucle for\n",
    "Descripción: Utiliza un bucle for para imprimir los números del 1 al 50 (incluido) en orden ascendente."
   ]
  },
  {
   "cell_type": "code",
   "execution_count": 10,
   "metadata": {},
   "outputs": [
    {
     "name": "stdout",
     "output_type": "stream",
     "text": [
      "(los numeros de la lista son range(1, 6))\n",
      "1\n",
      "2\n",
      "3\n",
      "4\n",
      "5\n"
     ]
    }
   ],
   "source": [
    "lista_15 = range(1,6)\n",
    "print(f'(los numeros de la lista son {lista_15})')\n",
    "\n",
    "for num in lista_15:\n",
    "    print(num)"
   ]
  },
  {
   "cell_type": "markdown",
   "metadata": {},
   "source": [
    "2. Calcular la suma de los primeros 10 números naturales utilizando un bucle for\n",
    "Descripción: Utiliza un bucle for para calcular la suma de los primeros 10 números naturales (1 + 2 + 3 + ... + 10)."
   ]
  },
  {
   "cell_type": "code",
   "execution_count": 11,
   "metadata": {},
   "outputs": [
    {
     "name": "stdout",
     "output_type": "stream",
     "text": [
      "(la lista de los nunmeros naturales es range(1, 11))\n",
      "(la lista de numeros naturales sumados es [3, 5, 7, 9, 11, 13, 15, 17, 19, 21]\n"
     ]
    }
   ],
   "source": [
    "numeros_naturales = range(1,11)\n",
    "print(f'(la lista de los nunmeros naturales es {numeros_naturales})')\n",
    "\n",
    "numeros_naturales_sumados = []\n",
    "\n",
    "for numero in numeros_naturales:\n",
    "   suma = (numero + numero+1)\n",
    "   numeros_naturales_sumados.append(suma)\n",
    "\n",
    "print(f'(la lista de numeros naturales sumados es {numeros_naturales_sumados}')"
   ]
  },
  {
   "cell_type": "markdown",
   "metadata": {},
   "source": [
    "3. Calcular el producto de los elementos de una lista\n",
    "Descripción: Dada una lista de números, utiliza un bucle for para calcular el producto de todos los elementos."
   ]
  },
  {
   "cell_type": "code",
   "execution_count": 9,
   "metadata": {},
   "outputs": [
    {
     "name": "stdout",
     "output_type": "stream",
     "text": [
      "(la lista de los nunmeros naturales es range(0, 11))\n",
      "(la lista de numeros naturales sumados es [0, 2, 6, 12, 20, 30, 42, 56, 72, 90, 110]\n"
     ]
    }
   ],
   "source": [
    "numeros_naturales2 = range(11)\n",
    "print(f'(la lista de los nunmeros naturales es {numeros_naturales2})')\n",
    "\n",
    "numeros_naturales_producto = []\n",
    "\n",
    "for numero in numeros_naturales2:\n",
    "   producto = (numero * (numero+1))\n",
    "   numeros_naturales_producto.append(producto)\n",
    "\n",
    "print(f'(la lista de numeros naturales sumados es {numeros_naturales_producto}')"
   ]
  },
  {
   "cell_type": "markdown",
   "metadata": {},
   "source": [
    "4. Imprimir los caracteres de una cadena de texto\n",
    "Descripción: Dada una cadena de texto, utiliza un bucle for para imprimir cada carácter en una línea separada"
   ]
  },
  {
   "cell_type": "code",
   "execution_count": 12,
   "metadata": {},
   "outputs": [
    {
     "name": "stdout",
     "output_type": "stream",
     "text": [
      "H\n",
      "o\n",
      "l\n",
      "a\n",
      ",\n",
      " \n",
      "b\n",
      "u\n",
      "e\n",
      "n\n",
      "o\n",
      "s\n",
      " \n",
      "d\n",
      "í\n",
      "a\n",
      "s\n"
     ]
    }
   ],
   "source": [
    "cadena_texto = 'Hola, buenos días'\n",
    "\n",
    "for letra in cadena_texto:\n",
    "    print(letra)"
   ]
  },
  {
   "cell_type": "markdown",
   "metadata": {},
   "source": [
    "5. Imprimir los números pares del 1 al 100 utilizando un bucle for\n",
    "Descripción: Utiliza un bucle for para imprimir los números pares del 1 al 100 en orden ascendente."
   ]
  },
  {
   "cell_type": "code",
   "execution_count": 15,
   "metadata": {},
   "outputs": [
    {
     "name": "stdout",
     "output_type": "stream",
     "text": [
      "(los números pares son [2, 4, 6, 8, 10, 12, 14, 16, 18, 20, 22, 24, 26, 28, 30, 32, 34, 36, 38, 40, 42, 44, 46, 48, 50, 52, 54, 56, 58, 60, 62, 64, 66, 68, 70, 72, 74, 76, 78, 80, 82, 84, 86, 88, 90, 92, 94, 96, 98, 100])\n"
     ]
    }
   ],
   "source": [
    "numeros = range(1,101)\n",
    "numeros_pares = []\n",
    "\n",
    "for num in numeros:\n",
    "    if num%2 ==0:\n",
    "        numeros_pares.append(num)\n",
    "print(f'(los números pares son {numeros_pares})')"
   ]
  },
  {
   "cell_type": "markdown",
   "metadata": {},
   "source": [
    "6. Imprimir los números primos del 1 al 50 utilizando un bucle for\n",
    "Descripción: Utiliza un bucle for para imprimir los números primos del 1 al 50 en orden ascendente.\n",
    "NOTA: Según la Wikipedia, un número primo es un número natural mayor que 1 que no tiene divisores positivos más que 1 y él mismo."
   ]
  },
  {
   "cell_type": "code",
   "execution_count": 32,
   "metadata": {},
   "outputs": [
    {
     "name": "stdout",
     "output_type": "stream",
     "text": [
      "(los números primos son [1, 2, 3, 4, 5, 6, 7, 8, 9, 10, 11, 12, 13, 14, 15, 16, 17, 18, 19, 20, 21, 22, 23, 24, 25, 26, 27, 28, 29, 30, 31, 32, 33, 34, 35, 36, 37, 38, 39, 40, 41, 42, 43, 44, 45, 46, 47, 48, 49, 50])\n"
     ]
    }
   ],
   "source": [
    "numeros2 = range(1,51)\n",
    "numeros_primos = []\n",
    "\n",
    "for num in range(1,51):\n",
    "    if num%num == 0:\n",
    "        numeros_primos.append(num)\n",
    "print(f'(los números primos son {numeros_primos})')"
   ]
  },
  {
   "cell_type": "code",
   "execution_count": null,
   "metadata": {},
   "outputs": [],
   "source": [
    "if num % n == 0:"
   ]
  },
  {
   "cell_type": "markdown",
   "metadata": {},
   "source": []
  },
  {
   "cell_type": "markdown",
   "metadata": {},
   "source": [
    "7. Calcular el factorial de un número utilizando un bucle for\n",
    "Descripción: Dado un número entero positivo, calcula su factorial utilizando un bucle for."
   ]
  },
  {
   "cell_type": "code",
   "execution_count": 7,
   "metadata": {},
   "outputs": [
    {
     "name": "stdout",
     "output_type": "stream",
     "text": [
      "(el factorial de [3] es 6)\n"
     ]
    }
   ],
   "source": [
    "numero_entero = [3]\n",
    "\n",
    "for num in numero_entero:\n",
    "    factorial = num*(num-1)*(num-2)\n",
    "print(f'(el factorial de {numero_entero} es {factorial})')"
   ]
  },
  {
   "cell_type": "markdown",
   "metadata": {},
   "source": [
    "8. Juego de adivinar palabras utilizando un bucle for\n",
    "Descripción: Crea un juego en el que el jugador debe adivinar una palabra secreta. El jugador tiene un número limitado de intentos y se le proporcionan pistas después de cada intento. Utiliza un bucle for para controlar los intentos del jugador."
   ]
  },
  {
   "cell_type": "markdown",
   "metadata": {},
   "source": [
    "# Ejercicios list comprehension\n",
    "1. Generar una lista de los números pares del 1 al 20.\n",
    "Descripción: Utiliza list comprehension para generar una lista que contenga todos los números pares en el rango del 1 al 20.\n",
    "2. Obtener una lista de las vocales en una cadena de texto.\n",
    "Descripción: Utiliza list comprehension para crear una lista que contenga todas las vocales presentes en una cadena de texto (sin repetición).\n",
    "3. Filtrar los números positivos de una lista y calcular su cuadrado.\n",
    "Descripción: Utiliza list comprehension para filtrar los números positivos de una lista y calcular el cuadrado de cada uno.\n"
   ]
  },
  {
   "cell_type": "markdown",
   "metadata": {},
   "source": [
    "# Ejercicios try ...except\n",
    "1. Realizar una búsqueda en una lista y capturar una excepción en caso de valor no encontrado.\n",
    "Descripción: Solicita al usuario una lista de nombres y un nombre para buscar en la lista. Intenta encontrar el nombre en la lista y utiliza las sentencias try y except para capturar la excepción en caso de que el nombre no sea encontrado."
   ]
  },
  {
   "cell_type": "code",
   "execution_count": 6,
   "metadata": {},
   "outputs": [],
   "source": [
    "lista_nombres = ['Maria' ,'Carmen', 'Pepi', 'Ana']\n",
    "\n",
    "nombre = 'lala'\n",
    "  \n",
    "if nombre in lista_nombres:\n",
    "     try:\n",
    "        print(nombre)\n",
    "\n",
    "        \n",
    "     except:\n",
    "        nombre not in lista_nombres\n",
    "        print('el nombre no está en la lista')"
   ]
  },
  {
   "cell_type": "code",
   "execution_count": 6,
   "metadata": {},
   "outputs": [],
   "source": [
    "lista_nombres2 = ['Maria' ,'Carmen', 'Pepi', 'Ana']\n",
    "\n",
    "while True:\n",
    "    nom_usu = input('Ingresa un nombre')\n",
    "    try: \n",
    "       nom_usu in lista_nombres2\n",
    "       lista_nombre3.append(nom_usu)\n",
    "  \n",
    "    except:\n",
    "       nom_usu not in lista_nombres2\n",
    "       print('el nombre no está en la lista')\n",
    "    break  \n",
    "\n"
   ]
  }
 ],
 "metadata": {
  "kernelspec": {
   "display_name": "base",
   "language": "python",
   "name": "python3"
  },
  "language_info": {
   "codemirror_mode": {
    "name": "ipython",
    "version": 3
   },
   "file_extension": ".py",
   "mimetype": "text/x-python",
   "name": "python",
   "nbconvert_exporter": "python",
   "pygments_lexer": "ipython3",
   "version": "3.9.7"
  }
 },
 "nbformat": 4,
 "nbformat_minor": 2
}
