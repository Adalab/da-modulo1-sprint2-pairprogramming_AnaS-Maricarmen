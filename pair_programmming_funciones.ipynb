{
 "cells": [
  {
   "cell_type": "markdown",
   "metadata": {},
   "source": [
    "Pair programming Funciones\n"
   ]
  },
  {
   "cell_type": "markdown",
   "metadata": {},
   "source": [
    "1. Calcular el área de un círculo.\n",
    "Descripción: Crea una función llamada calcular_area_circulo que tome el radio como parámetro y devuelva el área del círculo.\n",
    "NOTA: Os dejamos aquí un link para recordar como se calculaba el área de un círculo."
   ]
  },
  {
   "cell_type": "markdown",
   "metadata": {},
   "source": [
    "A = π r²\n",
    "\n",
    "π = 3.1416"
   ]
  },
  {
   "cell_type": "code",
   "execution_count": 8,
   "metadata": {},
   "outputs": [],
   "source": [
    "r= 3\n",
    "\n",
    "def calcular_area_circulo(r):\n",
    "    area_circulo = 3.14 * (r * r)\n",
    "    return area_circulo  \n",
    "    "
   ]
  },
  {
   "cell_type": "code",
   "execution_count": 9,
   "metadata": {},
   "outputs": [
    {
     "data": {
      "text/plain": [
       "28.26"
      ]
     },
     "execution_count": 9,
     "metadata": {},
     "output_type": "execute_result"
    }
   ],
   "source": [
    "calcular_area_circulo(3)"
   ]
  },
  {
   "cell_type": "code",
   "execution_count": null,
   "metadata": {},
   "outputs": [],
   "source": [
    "A = π r²\n",
    "\n",
    "π = 3.1416\n"
   ]
  },
  {
   "cell_type": "markdown",
   "metadata": {},
   "source": [
    "2. Contar la cantidad de caracteres en una cadena.\n",
    "Descripción: Crea una función llamada contar_caracteres que tome una cadena como parámetro y devuelva la cantidad de caracteres que contiene."
   ]
  },
  {
   "cell_type": "code",
   "execution_count": 44,
   "metadata": {},
   "outputs": [],
   "source": [
    "cadena_prueba = \"python me tiene loca\"\n",
    "def contar_caracteres (cadena):\n",
    "    cantidad_caracteres = len(cadena)\n",
    "    return cantidad_caracteres"
   ]
  },
  {
   "cell_type": "code",
   "execution_count": 45,
   "metadata": {},
   "outputs": [
    {
     "data": {
      "text/plain": [
       "20"
      ]
     },
     "execution_count": 45,
     "metadata": {},
     "output_type": "execute_result"
    }
   ],
   "source": [
    "contar_caracteres (cadena_prueba)"
   ]
  },
  {
   "cell_type": "markdown",
   "metadata": {},
   "source": [
    "3. Determinar si una cadena es un palíndromo.\n",
    "Descripción: Crea una función llamada es_palindromo que tome una cadena como parámetro y devuelva True si es un palíndromo, o False si no lo es.\n",
    "¿Qué es un palíndromo?."
   ]
  },
  {
   "cell_type": "code",
   "execution_count": 46,
   "metadata": {},
   "outputs": [],
   "source": [
    "cadena_texto = \"anna\"\n",
    "\n"
   ]
  },
  {
   "cell_type": "code",
   "execution_count": 15,
   "metadata": {},
   "outputs": [],
   "source": [
    "\n",
    "cadena_texto_prueba = \"anna\"\n",
    "\n",
    "\n",
    "def es_palindromo (cadena_texto):\n",
    "     \n",
    "     palindromo = cadena_texto[::-1]\n",
    "     print (palindromo)\n",
    "     return palindromo == cadena_texto \n",
    "\n",
    "        "
   ]
  },
  {
   "cell_type": "markdown",
   "metadata": {},
   "source": [
    "4. Calcular el promedio de una lista de números.\n",
    "Descripción: Crea una función llamada calcular_promedio que tome una lista de números como parámetro y devuelva el promedio de todos sus elementos."
   ]
  },
  {
   "cell_type": "code",
   "execution_count": 16,
   "metadata": {},
   "outputs": [
    {
     "name": "stdout",
     "output_type": "stream",
     "text": [
      "[4, 6, 9, 12]\n"
     ]
    },
    {
     "data": {
      "text/plain": [
       "4"
      ]
     },
     "execution_count": 16,
     "metadata": {},
     "output_type": "execute_result"
    }
   ],
   "source": [
    "\n",
    "lista_numeros_prueba = [4, 6, 9, 12]\n",
    "print (lista_numeros_prueba )\n",
    "\n",
    "len (lista_numeros_prueba)"
   ]
  },
  {
   "cell_type": "code",
   "execution_count": 18,
   "metadata": {},
   "outputs": [
    {
     "name": "stdout",
     "output_type": "stream",
     "text": [
      "7.75\n"
     ]
    }
   ],
   "source": [
    "promedio = sum (lista_numeros_prueba)/len(lista_numeros_prueba)\n",
    "print (promedio)"
   ]
  },
  {
   "cell_type": "code",
   "execution_count": 23,
   "metadata": {},
   "outputs": [
    {
     "name": "stdout",
     "output_type": "stream",
     "text": [
      "7.75\n"
     ]
    }
   ],
   "source": [
    "\n",
    "def calcular_promedio (lista_numeros):\n",
    "    \n",
    "     promedio = sum (lista_numeros)/len(lista_numeros)\n",
    "     return promedio \n",
    "\n",
    "print (promedio)"
   ]
  },
  {
   "cell_type": "markdown",
   "metadata": {},
   "source": [
    "5. Calcular el interés compuesto.\n",
    "Descripción: Crea una función llamada calcular_interes_compuesto que tome el capital inicial, la tasa de interés y el número de períodos como parámetros y devuelva el beneficio final después del interés compuesto."
   ]
  },
  {
   "cell_type": "code",
   "execution_count": 29,
   "metadata": {},
   "outputs": [
    {
     "name": "stdout",
     "output_type": "stream",
     "text": [
      "32.18901534750546\n"
     ]
    }
   ],
   "source": [
    "#La fórmula del interés compuesto es Cn= C0 (1+i)n\n",
    "#Necesitamos capital inicial, la tasa de interés y el número de períodos. \n",
    "\n",
    "capital_inicial_prueba = 120\n",
    "interes_prueba = 0.02\n",
    "periodo_prueba = 12\n",
    "\n",
    "interes_compuesto = capital_inicial_prueba *((1 + interes_prueba)** periodo_prueba)\n",
    "\n",
    "beneficio = interes_compuesto - capital_inicial_prueba \n",
    "\n",
    "print (beneficio)"
   ]
  },
  {
   "cell_type": "code",
   "execution_count": 32,
   "metadata": {},
   "outputs": [
    {
     "name": "stdout",
     "output_type": "stream",
     "text": [
      "32.18901534750546\n"
     ]
    }
   ],
   "source": [
    "def calcular_interes_compuesto (capital_inicial, interes, periodo):\n",
    "    interes_compuesto = capital_inicial *((1 + interes))** periodo\n",
    "    beneficio = interes_compuesto - capital_inicial\n",
    "    return beneficio\n",
    "print (beneficio)\n",
    "        "
   ]
  },
  {
   "cell_type": "markdown",
   "metadata": {},
   "source": [
    "6. Validar si una palabra es un anagrama de otra.\n",
    "Descripción: Crea una función llamada es_anagrama que tome dos palabras como parámetros y devuelva True si una es un anagrama de la otra, o False si no lo es.\n",
    "¿Qué es un anagrama?."
   ]
  },
  {
   "cell_type": "code",
   "execution_count": 55,
   "metadata": {},
   "outputs": [],
   "source": [
    "#Ejemplo de anagrama pagar y praga (mismas letras en diferente orden)\n",
    "\n",
    "palabra3 = \"pagar\".lower()\n",
    "palabra4 = \"praga\".lower ()\n"
   ]
  },
  {
   "cell_type": "code",
   "execution_count": 58,
   "metadata": {},
   "outputs": [
    {
     "name": "stdout",
     "output_type": "stream",
     "text": [
      "True\n"
     ]
    }
   ],
   "source": [
    "def es_anagrama (palabra3, palabra4):\n",
    "    return sorted(palabra3)==sorted(palabra4)\n",
    "print (es_anagrama (palabra3, palabra4))"
   ]
  },
  {
   "cell_type": "code",
   "execution_count": 59,
   "metadata": {},
   "outputs": [
    {
     "name": "stdout",
     "output_type": "stream",
     "text": [
      "False\n"
     ]
    }
   ],
   "source": [
    "palabra5 = \"reloj\"\n",
    "palabra6 = \"avion\"\n",
    "\n",
    "def es_anagrama (palabra5, palabra6):\n",
    "    return sorted (palabra5)==(palabra6)\n",
    "print (es_anagrama (palabra5, palabra6))"
   ]
  },
  {
   "cell_type": "markdown",
   "metadata": {},
   "source": [
    "7. Validar si una cadena de texto es un isograma.\n",
    "Descripción: Crea una función llamada es_isograma que tome una cadena de texto como parámetro y devuelva True si es un isograma. En caso contrario, devuelve False.\n",
    "¿Qué es un isograma? Una palabra que no contiene letras repetidas."
   ]
  },
  {
   "cell_type": "code",
   "execution_count": null,
   "metadata": {},
   "outputs": [],
   "source": [
    "#un isograma es una palabra que no tiene letras repetidas#\n",
    "\n",
    "cadena_texto = \"soy lista\"\n",
    "list (cadena_texto)\n",
    "\n",
    "    "
   ]
  },
  {
   "cell_type": "code",
   "execution_count": 80,
   "metadata": {},
   "outputs": [],
   "source": [
    "def es_isograma (cadena_texto):  ############################################# ESTE NO ME SALE########################\n",
    "    \n",
    "    for letra in cadena_texto:\n",
    "        if cadena_texto.count() >1:\n",
    "            respuesta = \"False\"\n",
    "            break\n",
    "        else:\n",
    "            respuesta = \"True\"\n",
    "    return respuesta\n",
    "        "
   ]
  },
  {
   "cell_type": "markdown",
   "metadata": {},
   "source": [
    "8. Concatenar múltiples cadenas de texto\n",
    "Descripción: Crea una función llamada concatenar_cadenas que tome una cantidad variable de cadenas de texto como argumentos y devuelva una única cadena que contenga la concatenación de todas las cadenas ingresadas."
   ]
  },
  {
   "cell_type": "code",
   "execution_count": 84,
   "metadata": {},
   "outputs": [
    {
     "name": "stdout",
     "output_type": "stream",
     "text": [
      "Buenas tardes ¿cómo estás?\n"
     ]
    }
   ],
   "source": [
    "cadena1 = \"Buenas tardes\"\n",
    "cadena2= \"¿cómo estás?\"\n",
    "\n",
    "def concatenar_palabras (*args):\n",
    "    resultado = ' '\n",
    "    espacio = ' '\n",
    "    for palabra in args:\n",
    "        resultado = resultado + espacio + palabra\n",
    "    return resultado.strip ()\n",
    "print (concatenar_palabras (cadena1, cadena2))"
   ]
  },
  {
   "cell_type": "markdown",
   "metadata": {},
   "source": [
    "9. Crear un diccionario con información de una persona.\n",
    "Descripción: Crea una función llamada crear_persona que tome como argumentos clave-valor los datos de una persona, como nombre, edad, ciudad, etc., y devuelva un diccionario con toda la información ingresada."
   ]
  },
  {
   "cell_type": "markdown",
   "metadata": {},
   "source": [
    "10. Encontrar el número que falta en una lista ordenada de números consecutivos.\n",
    "Descripción: Crea una función llamada encontrar_numero_faltante que tome una lista de números consecutivos (del 1 al N, sin repetir) con un número faltante y devuelva ese número faltante."
   ]
  },
  {
   "cell_type": "markdown",
   "metadata": {},
   "source": [
    "11. Encontrar el elemento duplicado en una lista de números.\n",
    "Descripción: Crea una función llamada encontrar_duplicado que tome una lista de números enteros y devuelva el elemento que está duplicado en la lista."
   ]
  }
 ],
 "metadata": {
  "kernelspec": {
   "display_name": "base",
   "language": "python",
   "name": "python3"
  },
  "language_info": {
   "codemirror_mode": {
    "name": "ipython",
    "version": 3
   },
   "file_extension": ".py",
   "mimetype": "text/x-python",
   "name": "python",
   "nbconvert_exporter": "python",
   "pygments_lexer": "ipython3",
   "version": "3.9.7"
  }
 },
 "nbformat": 4,
 "nbformat_minor": 2
}
