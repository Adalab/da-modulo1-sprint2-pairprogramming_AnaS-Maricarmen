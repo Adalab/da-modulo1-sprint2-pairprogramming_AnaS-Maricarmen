{
 "cells": [
  {
   "cell_type": "markdown",
   "metadata": {},
   "source": [
    "1. En este ejercicio de pair programming, vamos a crear una clase para gestionar la información de los empleados de nuestra empresa. Siguiendo las indicaciones del jefe, necesitamos organizar los datos de cada empleado de manera más estructurada.\n",
    " - La clase Empleados permite gestionar información relacionada con los empleados de una empresa, con las siguientes características:\n",
    "Debes crear una clase llamada \"Empleados\" que tenga los siguientes atributos: nombre, apellidos, edad, posicion, año , vacaciones(cantidad de días de vacaciones que le quedan al empleado) y herramientas.\n",
    " - El constructor __init__ debe recibir estos atributos como parámetros y asignarlos a los respectivos atributos de la clase.\n",
    "Los atributos representan la información personal y profesional de un empleado, como su nombre completo, edad, posición en la empresa, año de ingreso, días de vacaciones disponibles y una lista de herramientas que el empleado sabe utilizar."
   ]
  },
  {
   "cell_type": "markdown",
   "metadata": {},
   "source": [
    "2. Los métodos que debe recibir esta clase son:\n",
    "Método descripcion: Proporciona una descripción del empleado, incluyendo su nombre, posición en la empresa, y la cantidad de días de vacaciones que le quedan para el año actual. Los pasos para resolver el ejercicio del método descripcion son:\n",
    " - Utilizar F-Strings: Utiliza f-strings para construir la descripción del empleado de manera legible y eficiente.\n",
    "- Especificar los Atributos a Incluir: Determina cuáles de los atributos del empleado se deben incluir en la descripción. Los atributos necesarios son nombre, posicion, año, y vacaciones.\n",
    "- Concatenar los Atributos: Usar f-strings para concatenar los atributos seleccionados y crear una descripción coherente."
   ]
  },
  {
   "cell_type": "markdown",
   "metadata": {},
   "source": [
    "2. Método cambiando_posicion: Verifica las herramientas que el empleado tiene en su lista y devuelve un mensaje específico basado en las herramientas. Puede elogiar al empleado si tiene \"Python\" en su lista o sugerirle que deje de usar \"Excel\" y aprenda Python. Los pasos para resolver este ejercicio son:\n",
    "- Iterar a través de las Herramientas: La función debe recorrer la lista de herramientas (self.herramientas) del empleado.\n",
    "- Evaluar Cada Herramienta: Para cada herramienta en la lista, verifica si es igual a \"Python\" o \"Excel\" (en minúsculas)."
   ]
  },
  {
   "cell_type": "code",
   "execution_count": 3,
   "metadata": {},
   "outputs": [],
   "source": [
    "class Empleados:\n",
    "    \n",
    "    def __init__(self, nombre, apellidos, edad, posicion, año , herramientas, vacaciones = 30):\n",
    "\n",
    "        self.nombre = nombre\n",
    "        self.apellidos = apellidos\n",
    "        self.edad = edad\n",
    "        self.posicion = posicion\n",
    "        self.año = año\n",
    "        self.herramientas = herramientas\n",
    "        self.vacaciones = vacaciones\n",
    "\n",
    "empleado1 = Empleados('Maria', 'Gonzalez', '2023', 'secretaria', 2018, ['excel', 'python'], )"
   ]
  },
  {
   "cell_type": "code",
   "execution_count": 4,
   "metadata": {},
   "outputs": [
    {
     "data": {
      "text/plain": [
       "'Maria Gonzalez cuya posición actual es secretaria y le quedan 30 días de vacaciones'"
      ]
     },
     "execution_count": 4,
     "metadata": {},
     "output_type": "execute_result"
    }
   ],
   "source": [
    "# Metodo 1: descripción del empelado: nombre, posicion y vacaciones\n",
    "def descripcion_empleado(self):\n",
    "   return f'{self.nombre} {self.apellidos} cuya posición actual es {self.posicion} y le quedan {self.vacaciones} días de vacaciones'\n",
    "\n",
    "\n",
    "descripcion_empleado(empleado1)"
   ]
  },
  {
   "cell_type": "code",
   "execution_count": null,
   "metadata": {},
   "outputs": [],
   "source": [
    "# Método 2: cambiar posición:\n",
    "def cambiar_posicion(self):\n",
    "    for h in self.herramientas:\n",
    "        if h == 'python':\n",
    "            return f'Mi empleada sí conoce Python'\n",
    "    if h == 'excel':\n",
    "            return f'Mi empleada no conoce Python'\n",
    "        \n",
    "cambiar_posicion(empleado1)   \n",
    "    "
   ]
  },
  {
   "cell_type": "code",
   "execution_count": null,
   "metadata": {},
   "outputs": [],
   "source": [
    "if 'python' in self.herramientas:\n",
    "        return f'Mi empleada sí conoce Python'\n",
    "    elif 'python' not in self.herramientas:\n",
    "        return f'Necesita un curso de Python'\n",
    "    else:\n",
    "\n",
    "if 'excel' in self.herramientas:\n",
    "        return f'Mi empleada sí conoce Excel'\n",
    "    elif 'excel' not in self.herramientas:\n",
    "        return f'Necesita un curso de Excel'\n",
    "cambiar_posicion(empleado1)"
   ]
  }
 ],
 "metadata": {
  "kernelspec": {
   "display_name": "base",
   "language": "python",
   "name": "python3"
  },
  "language_info": {
   "codemirror_mode": {
    "name": "ipython",
    "version": 3
   },
   "file_extension": ".py",
   "mimetype": "text/x-python",
   "name": "python",
   "nbconvert_exporter": "python",
   "pygments_lexer": "ipython3",
   "version": "3.9.7"
  }
 },
 "nbformat": 4,
 "nbformat_minor": 2
}
