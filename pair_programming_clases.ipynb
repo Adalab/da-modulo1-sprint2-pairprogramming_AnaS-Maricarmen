{
 "cells": [
  {
   "cell_type": "markdown",
   "metadata": {},
   "source": [
    "1. En este ejercicio de pair programming, vamos a crear una clase para gestionar la información de los empleados de nuestra empresa. Siguiendo las indicaciones del jefe, necesitamos organizar los datos de cada empleado de manera más estructurada.\n",
    " - La clase Empleados permite gestionar información relacionada con los empleados de una empresa, con las siguientes características:\n",
    "Debes crear una clase llamada \"Empleados\" que tenga los siguientes atributos: nombre, apellidos, edad, posicion, año , vacaciones(cantidad de días de vacaciones que le quedan al empleado) y herramientas.\n",
    " - El constructor __init__ debe recibir estos atributos como parámetros y asignarlos a los respectivos atributos de la clase.\n",
    "Los atributos representan la información personal y profesional de un empleado, como su nombre completo, edad, posición en la empresa, año de ingreso, días de vacaciones disponibles y una lista de herramientas que el empleado sabe utilizar."
   ]
  },
  {
   "cell_type": "markdown",
   "metadata": {},
   "source": [
    "2. Los métodos que debe recibir esta clase son:\n",
    "Método descripcion: Proporciona una descripción del empleado, incluyendo su nombre, posición en la empresa, y la cantidad de días de vacaciones que le quedan para el año actual. Los pasos para resolver el ejercicio del método descripcion son:\n",
    " - Utilizar F-Strings: Utiliza f-strings para construir la descripción del empleado de manera legible y eficiente.\n",
    "- Especificar los Atributos a Incluir: Determina cuáles de los atributos del empleado se deben incluir en la descripción. Los atributos necesarios son nombre, posicion, año, y vacaciones.\n",
    "- Concatenar los Atributos: Usar f-strings para concatenar los atributos seleccionados y crear una descripción coherente."
   ]
  },
  {
   "cell_type": "markdown",
   "metadata": {},
   "source": [
    "2. Método cambiando_posicion: Verifica las herramientas que el empleado tiene en su lista y devuelve un mensaje específico basado en las herramientas. Puede elogiar al empleado si tiene \"Python\" en su lista o sugerirle que deje de usar \"Excel\" y aprenda Python. Los pasos para resolver este ejercicio son:\n",
    "- Iterar a través de las Herramientas: La función debe recorrer la lista de herramientas (self.herramientas) del empleado.\n",
    "- Evaluar Cada Herramienta: Para cada herramienta en la lista, verifica si es igual a \"Python\" o \"Excel\" (en minúsculas)."
   ]
  },
  {
   "cell_type": "code",
   "execution_count": 1,
   "metadata": {},
   "outputs": [],
   "source": [
    "class Empleados:\n",
    "    \n",
    "    def __init__(self, nombre, apellidos, edad, posicion, año , herramientas, vacaciones = 30):\n",
    "\n",
    "        self.nombre = nombre\n",
    "        self.apellidos = apellidos\n",
    "        self.edad = edad\n",
    "        self.posicion = posicion\n",
    "        self.año = año\n",
    "        self.herramientas = herramientas\n",
    "        self.vacaciones = vacaciones\n",
    "\n",
    "empleado1 = Empleados('Maria', 'Gonzalez', '2023', 'secretaria', 2018, ['excel', 'python'], )"
   ]
  },
  {
   "cell_type": "code",
   "execution_count": 2,
   "metadata": {},
   "outputs": [
    {
     "data": {
      "text/plain": [
       "'Maria Gonzalez cuya posición actual es secretaria y le quedan 30 días de vacaciones'"
      ]
     },
     "execution_count": 2,
     "metadata": {},
     "output_type": "execute_result"
    }
   ],
   "source": [
    "# Metodo 1: descripción del empelado: nombre, posicion y vacaciones\n",
    "def descripcion_empleado(self):\n",
    "   return f'{self.nombre} {self.apellidos} cuya posición actual es {self.posicion} y le quedan {self.vacaciones} días de vacaciones'\n",
    "\n",
    "\n",
    "descripcion_empleado(empleado1)"
   ]
  },
  {
   "cell_type": "code",
   "execution_count": 3,
   "metadata": {},
   "outputs": [
    {
     "data": {
      "text/plain": [
       "'Mi empleada sí conoce Python'"
      ]
     },
     "execution_count": 3,
     "metadata": {},
     "output_type": "execute_result"
    }
   ],
   "source": [
    "# Método 2: cambiar posición:\n",
    "def cambiar_posicion(self):\n",
    "    for h in self.herramientas:\n",
    "        if h == 'python':\n",
    "            return f'Mi empleada sí conoce Python'\n",
    "    if h == 'excel':\n",
    "            return f'Mi empleada no conoce Python'\n",
    "        \n",
    "cambiar_posicion(empleado1)   \n",
    "    "
   ]
  },
  {
   "cell_type": "code",
   "execution_count": 6,
   "metadata": {},
   "outputs": [
    {
     "data": {
      "text/plain": [
       "'Maria lleva 4 años y 2020 meses en la empresa.'"
      ]
     },
     "execution_count": 6,
     "metadata": {},
     "output_type": "execute_result"
    }
   ],
   "source": [
    "# Método 3: antiguedad\n",
    "def calcular_antiguedad(self):\n",
    "        from datetime import datetime\n",
    "        año_actual = datetime.now().year\n",
    "        mes_actual = datetime.now().month\n",
    "        antiguedad_años = año_actual - self.año\n",
    "        antiguedad_meses = mes_actual\n",
    "        if self.año < año_actual and mes_actual <  self.año:\n",
    "            antiguedad_años -= 1\n",
    "            antiguedad_meses = 12 - mes_actual + self.año\n",
    "        return f\"{self.nombre} lleva {antiguedad_años} años y {antiguedad_meses} meses en la empresa.\"\n",
    "\n",
    "calcular_antiguedad(empleado1)"
   ]
  },
  {
   "cell_type": "code",
   "execution_count": 8,
   "metadata": {},
   "outputs": [
    {
     "data": {
      "text/plain": [
       "'Solicitud aprobada. Ahora tienes 33 días de vacaciones.'"
      ]
     },
     "execution_count": 8,
     "metadata": {},
     "output_type": "execute_result"
    }
   ],
   "source": [
    "# Método 4: Más vacaciones\n",
    "\n",
    "def solicitar_aumento_vacaciones(self, dias_solicitados):\n",
    "        if dias_solicitados > 0:\n",
    "            self.vacaciones += dias_solicitados\n",
    "            return f'Solicitud aprobada. Ahora tienes {self.vacaciones} días de vacaciones.'\n",
    "        else:\n",
    "            return 'Solicitud no válida'\n",
    "\n",
    "solicitar_aumento_vacaciones(empleado1, 3)"
   ]
  },
  {
   "cell_type": "code",
   "execution_count": 10,
   "metadata": {},
   "outputs": [
    {
     "data": {
      "text/plain": [
       "'Power BI ha sido registrada en tus habilidades.'"
      ]
     },
     "execution_count": 10,
     "metadata": {},
     "output_type": "execute_result"
    }
   ],
   "source": [
    "# Método 5: Herrmaientas\n",
    "\n",
    "def registrar_herramienta(self, nueva_herramienta):\n",
    "        if nueva_herramienta not in self.herramientas:\n",
    "            self.herramientas.append(nueva_herramienta)\n",
    "            return f'{nueva_herramienta} ha sido registrada en tus habilidades.'\n",
    "        else:\n",
    "            return f'{nueva_herramienta} ya está en tu lista de herramientas.'\n",
    "\n",
    "registrar_herramienta(empleado1, 'Power BI')"
   ]
  },
  {
   "cell_type": "code",
   "execution_count": 12,
   "metadata": {},
   "outputs": [
    {
     "data": {
      "text/plain": [
       "'Maria, tu nueva posición es cocinera y tu nuevo salario es 3000€.'"
      ]
     },
     "execution_count": 12,
     "metadata": {},
     "output_type": "execute_result"
    }
   ],
   "source": [
    "# Método 6: Cambiar posición\n",
    "\n",
    "def cambiar_posicion(self, nueva_posicion, nuevo_salario):\n",
    "        self.posicion = nueva_posicion\n",
    "        self.salario = nuevo_salario\n",
    "        return f'{self.nombre}, tu nueva posición es {self.posicion} y tu nuevo salario es {self.salario}.'\n",
    "\n",
    "cambiar_posicion(empleado1, 'cocinera', '3000€')"
   ]
  }
 ],
 "metadata": {
  "kernelspec": {
   "display_name": "base",
   "language": "python",
   "name": "python3"
  },
  "language_info": {
   "codemirror_mode": {
    "name": "ipython",
    "version": 3
   },
   "file_extension": ".py",
   "mimetype": "text/x-python",
   "name": "python",
   "nbconvert_exporter": "python",
   "pygments_lexer": "ipython3",
   "version": "3.9.7"
  }
 },
 "nbformat": 4,
 "nbformat_minor": 2
}
